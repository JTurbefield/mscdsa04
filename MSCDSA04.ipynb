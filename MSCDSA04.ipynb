{
 "cells": [
  {
   "cell_type": "code",
   "execution_count": 1,
   "metadata": {},
   "outputs": [],
   "source": [
    "import pandas as pd"
   ]
  },
  {
   "cell_type": "code",
   "execution_count": 2,
   "metadata": {},
   "outputs": [],
   "source": [
    "#Set Library Options\n",
    "pd.set_option('display.max_rows', 50000)\n",
    "pd.set_option('display.max_columns', 500)\n",
    "pd.set_option('display.width', 1500)  "
   ]
  },
  {
   "cell_type": "code",
   "execution_count": 3,
   "metadata": {},
   "outputs": [],
   "source": [
    "#Set Functions\n",
    "#\tg. Show first 3 rows of data\n",
    "def ShowFirstLines():\n",
    "    numfirstlines = int(input(\"How many lines would you like to show?:\"))\n",
    "    print(data.head(numfirstlines))"
   ]
  },
  {
   "cell_type": "code",
   "execution_count": 4,
   "metadata": {},
   "outputs": [],
   "source": [
    "#\th. Show last 4 rows of data    \n",
    "def ShowLastLines():\n",
    "    numlastlines = int(input(\"How many lines would you like to show?:\"))\n",
    "    print(data.tail(numlastlines))"
   ]
  },
  {
   "cell_type": "code",
   "execution_count": 5,
   "metadata": {},
   "outputs": [],
   "source": [
    "#   Show Whole DataFrame\n",
    "def ShowWholeDataFrame():\n",
    "    print(data)"
   ]
  },
  {
   "cell_type": "code",
   "execution_count": 6,
   "metadata": {},
   "outputs": [],
   "source": [
    "#a. Sort data\n",
    "#\t\ti. Date\n",
    "#\t\tii. Totals - high\n",
    "#\t\tiii. Totals - low\n",
    "#   Sort DataFrame by Column, Ascending\n",
    "def SortByAscending():\n",
    "    print(\"Which column would you like to sort by (case sensitive)?\")\n",
    "    columntosort = input(\"Column: \")\n",
    "    data.sort_values(columntosort, inplace = True)\n",
    "    print(\"Data Sorted.\")"
   ]
  },
  {
   "cell_type": "code",
   "execution_count": 7,
   "metadata": {},
   "outputs": [],
   "source": [
    "#   Sort DataFrame by Column, Descending\n",
    "def SortByDescending():\n",
    "    print(\"Which column would you like to sort by (case sensitive)?\")\n",
    "    columntosort = input(\"Column: \")\n",
    "    data.sort_values(columntosort, ascending = False, inplace = True)\n",
    "    print(\"Data Sorted.\")"
   ]
  },
  {
   "cell_type": "code",
   "execution_count": 8,
   "metadata": {},
   "outputs": [],
   "source": [
    "#\tb. Sum data\n",
    "def SumColumn():\n",
    "    print(\"Which column would you like the sum of?\")\n",
    "    columntosum = input(\"Column: \")\n",
    "    columnsum = data[columntosum].sum()\n",
    "    print(columnsum) "
   ]
  },
  {
   "cell_type": "code",
   "execution_count": 9,
   "metadata": {},
   "outputs": [],
   "source": [
    "#\t\ti. Count of entries of each type\n",
    "def GroupRows():\n",
    "    print(\"For which column would you to see a list of entries by count?\") \n",
    "    columntogroup = input(\"Column: \")\n",
    "    data2 = data.groupby(columntogroup)[columntogroup].count()\n",
    "    data2.sort_values(ascending = False, inplace = True)\n",
    "    print(data2)"
   ]
  },
  {
   "cell_type": "code",
   "execution_count": 10,
   "metadata": {},
   "outputs": [],
   "source": [
    "#\t\tii. Sum of entries of each type?   \n",
    "def SumGroupedRows():\n",
    "    print(\"Which column would you to group up (i.e. Sold Item, Manufacturer, Year)?\") \n",
    "    columntogroupby = input(\"Column: \")\n",
    "    print(\"Which column would you like the totals for (i.e. sales, inventory)?\")\n",
    "    columntogetsum = input(\"Column: \")\n",
    "    data3 = data.groupby(columntogroupby)[columntogroupby,columntogetsum].sum()\n",
    "    data3.sort_values(columntogetsum, ascending = False, inplace = True)\n",
    "    print(data3)"
   ]
  },
  {
   "cell_type": "code",
   "execution_count": 11,
   "metadata": {},
   "outputs": [],
   "source": [
    "#\tc. Show mean of each type of data    \n",
    "def ColumnMean():\n",
    "    print(\"Which column would you like the mean of?\")\n",
    "    columntomean = input(\"Column: \")\n",
    "    columnmean= data[columntomean].mean()\n",
    "    print(columnmean) "
   ]
  },
  {
   "cell_type": "code",
   "execution_count": 12,
   "metadata": {},
   "outputs": [],
   "source": [
    "#\td. Show standard deviation    \n",
    "def ColumnStandardDeviation():\n",
    "    print(\"Which column would you like the standard deviation of?\")\n",
    "    columnstdev = input(\"Column: \")\n",
    "    columnstd = data.loc[:,columnstdev].std()\n",
    "    print(columnstd) "
   ]
  },
  {
   "cell_type": "code",
   "execution_count": 13,
   "metadata": {},
   "outputs": [],
   "source": [
    "#\te. Describe covariance    \n",
    "def Covariance():\n",
    "    print(data.cov())"
   ]
  },
  {
   "cell_type": "code",
   "execution_count": 14,
   "metadata": {},
   "outputs": [],
   "source": [
    "#\tf. Describe correlation\n",
    "def Correlation():\n",
    "    print(data.corr())"
   ]
  },
  {
   "cell_type": "code",
   "execution_count": 15,
   "metadata": {},
   "outputs": [],
   "source": [
    "# Export dataframe to CSV #5. Option to save/export changed data \n",
    "def Export():\n",
    "    exportfile = input(\"What would you like to name the file?: \")\n",
    "    data.to_csv(exportfile + '.csv')\n",
    "    print(\"File written.\")\n",
    "    "
   ]
  },
  {
   "cell_type": "code",
   "execution_count": 16,
   "metadata": {},
   "outputs": [],
   "source": [
    "#3. List options of what to do with data\n",
    "def options():\n",
    "    print(\"What would you like to do?\")\n",
    "    print(\"1. Show the top x lines.\")\n",
    "    print(\"2. Show the last x lines.\")\n",
    "    print(\"3. Show the full table.\")\n",
    "    print(\"4. Sort table - Ascending.\")\n",
    "    print(\"5. Sort table - Descending.\")\n",
    "    print(\"6. Output total sum of a column.\")\n",
    "    print(\"7. Output list of entries within a column by count of entries.\")\n",
    "    print(\"8. Output list of column entries by sum of another column\")\n",
    "    print(\"9. Show the mean value of a column of integers\")\n",
    "    print(\"10. Show the standard deviation of the values in a column.\")\n",
    "    print(\"11. Show the covariance between the columns of integers.\")\n",
    "    print(\"12. Show the correlation between the columns of integers.\")\n",
    "    print(\"98. Export the table to a new CSV file.\")\n",
    "    print(\"99. Exit the script.\")"
   ]
  },
  {
   "cell_type": "code",
   "execution_count": 17,
   "metadata": {},
   "outputs": [
    {
     "name": "stdout",
     "output_type": "stream",
     "text": [
      "Please ensure the source data file is in the same directory as this script.\n",
      "Enter the name of the CSV file (without .csv extension) you would like to open:\n",
      "File: gamesales\n",
      "The file name is gamesales.csv. Now opening.\n",
      "\n"
     ]
    }
   ],
   "source": [
    "#Ask for file Name\n",
    "print(\"Please ensure the source data file is in the same directory as this script.\")\n",
    "print(\"Enter the name of the CSV file (without .csv extension) you would like to open:\")\n",
    "datafilename = input(\"File: \")\n",
    "datafilename = datafilename+(\".csv\")\n",
    "print(\"The file name is \" + datafilename + \". Now opening.\")\n",
    "print()\n"
   ]
  },
  {
   "cell_type": "code",
   "execution_count": 18,
   "metadata": {},
   "outputs": [
    {
     "name": "stdout",
     "output_type": "stream",
     "text": [
      "File opened.\n",
      "What would you like to do?\n",
      "1. Show the top x lines.\n",
      "2. Show the last x lines.\n",
      "3. Show the full table.\n",
      "4. Sort table - Ascending.\n",
      "5. Sort table - Descending.\n",
      "6. Output total sum of a column.\n",
      "7. Output list of entries within a column by count of entries.\n",
      "8. Output list of column entries by sum of another column\n",
      "9. Show the mean value of a column of integers\n",
      "10. Show the standard deviation of the values in a column.\n",
      "11. Show the covariance between the columns of integers.\n",
      "12. Show the correlation between the columns of integers.\n",
      "98. Export the table to a new CSV file.\n",
      "99. Exit the script.\n"
     ]
    }
   ],
   "source": [
    "#Load the file\n",
    "data = pd.read_csv(datafilename)\n",
    "print(\"File opened.\")\n",
    "\n",
    "options()"
   ]
  },
  {
   "cell_type": "code",
   "execution_count": null,
   "metadata": {},
   "outputs": [
    {
     "name": "stdout",
     "output_type": "stream",
     "text": [
      "Selection: 1\n",
      "How many lines would you like to show?:5\n",
      "   Rank                      Name Platform    Year         Genre Publisher  NA_Sales  EU_Sales  JP_Sales  Other_Sales  Global_Sales\n",
      "0     1                Wii Sports      Wii  2006.0        Sports  Nintendo     41.49     29.02      3.77         8.46         82.74\n",
      "1     2         Super Mario Bros.      NES  1985.0      Platform  Nintendo     29.08      3.58      6.81         0.77         40.24\n",
      "2     3            Mario Kart Wii      Wii  2008.0        Racing  Nintendo     15.85     12.88      3.79         3.31         35.82\n",
      "3     4         Wii Sports Resort      Wii  2009.0        Sports  Nintendo     15.75     11.01      3.28         2.96         33.00\n",
      "4     5  Pokemon Red/Pokemon Blue       GB  1996.0  Role-Playing  Nintendo     11.27      8.89     10.22         1.00         31.37\n",
      "What would you like to do?\n",
      "1. Show the top x lines.\n",
      "2. Show the last x lines.\n",
      "3. Show the full table.\n",
      "4. Sort table - Ascending.\n",
      "5. Sort table - Descending.\n",
      "6. Output total sum of a column.\n",
      "7. Output list of entries within a column by count of entries.\n",
      "8. Output list of column entries by sum of another column\n",
      "9. Show the mean value of a column of integers\n",
      "10. Show the standard deviation of the values in a column.\n",
      "11. Show the covariance between the columns of integers.\n",
      "12. Show the correlation between the columns of integers.\n",
      "98. Export the table to a new CSV file.\n",
      "99. Exit the script.\n",
      "Selection: 2\n",
      "How many lines would you like to show?:40\n",
      "        Rank                                               Name Platform    Year         Genre                     Publisher  NA_Sales  EU_Sales  JP_Sales  Other_Sales  Global_Sales\n",
      "16558  16561                          Pro Evolution Soccer 2008       PC  2007.0        Sports  Konami Digital Entertainment      0.00      0.01      0.00          0.0          0.01\n",
      "16559  16562       Sugar + Spice! Anoko no Suteki na Nanimokamo      PS2  2008.0     Adventure                     Alchemist      0.00      0.00      0.01          0.0          0.01\n",
      "16560  16563                                  Hanasaku Manimani      PSV  2014.0     Adventure                           5pb      0.00      0.00      0.01          0.0          0.01\n",
      "16561  16564                                     Kanokon: Esuii      PS2  2008.0     Adventure                           5pb      0.00      0.00      0.01          0.0          0.01\n",
      "16562  16565                                       Mighty No. 9     XOne  2016.0      Platform                   Deep Silver      0.01      0.00      0.00          0.0          0.01\n",
      "16563  16566                     Mortal Kombat: Deadly Alliance      GBA  2002.0      Fighting                  Midway Games      0.01      0.00      0.00          0.0          0.01\n",
      "16564  16567      Original Frisbee Disc Sports: Ultimate & Golf       DS  2007.0        Action     Destination Software, Inc      0.01      0.00      0.00          0.0          0.01\n",
      "16565  16568                                          Teslagrad      PSV  2015.0      Platform                    Rain Games      0.00      0.01      0.00          0.0          0.01\n",
      "16566  16569                                     End of Nations       PC  2012.0      Strategy                  Trion Worlds      0.01      0.00      0.00          0.0          0.01\n",
      "16567  16570  Fujiko F. Fujio Characters: Great Assembly! Sl...      3DS  2014.0        Action            Namco Bandai Games      0.00      0.00      0.01          0.0          0.01\n",
      "16568  16571                                        XI Coliseum      PSP  2006.0        Puzzle   Sony Computer Entertainment      0.00      0.00      0.01          0.0          0.01\n",
      "16569  16572                                 Resident Evil 4 HD     XOne  2016.0       Shooter                        Capcom      0.01      0.00      0.00          0.0          0.01\n",
      "16570  16573                      Farming 2017 - The Simulation      PS4  2016.0    Simulation             UIG Entertainment      0.00      0.01      0.00          0.0          0.01\n",
      "16571  16574         Grisaia no Kajitsu: La Fruit de la Grisaia      PSP  2013.0     Adventure                     Prototype      0.00      0.00      0.01          0.0          0.01\n",
      "16572  16575                   Scarlett: Nichijou no Kyoukaisen      PS2  2008.0     Adventure               Kadokawa Shoten      0.00      0.00      0.01          0.0          0.01\n",
      "16573  16576                                Mini Desktop Racing      Wii  2007.0        Racing                Popcorn Arcade      0.01      0.00      0.00          0.0          0.01\n",
      "16574  16577  Yattaman Wii: BikkuriDokkiri Machine de Mou Ra...      Wii  2008.0        Racing                   Takara Tomy      0.00      0.00      0.01          0.0          0.01\n",
      "16575  16578                              Neo Angelique Special      PSP  2008.0     Adventure                    Tecmo Koei      0.00      0.00      0.01          0.0          0.01\n",
      "16576  16579                                  Rugby Challenge 3     XOne  2016.0        Sports          Alternative Software      0.00      0.01      0.00          0.0          0.01\n",
      "16577  16580                                          Damnation       PC  2009.0       Shooter                   Codemasters      0.00      0.01      0.00          0.0          0.01\n",
      "16578  16581                      Outdoors Unleashed: Africa 3D      3DS  2011.0        Sports                       Mastiff      0.01      0.00      0.00          0.0          0.01\n",
      "16579  16582                                  PGA European Tour      N64  2000.0        Sports                    Infogrames      0.01      0.00      0.00          0.0          0.01\n",
      "16580  16583                                          Real Rode      PS2  2008.0     Adventure               Kadokawa Shoten      0.00      0.00      0.01          0.0          0.01\n",
      "16581  16584                                          Fit & Fun      Wii  2011.0        Sports                       Unknown      0.00      0.01      0.00          0.0          0.01\n",
      "16582  16585                                    Planet Monsters      GBA  2001.0        Action                         Titus      0.01      0.00      0.00          0.0          0.01\n",
      "16583  16586                                     Carmageddon 64      N64  1999.0        Action            Virgin Interactive      0.01      0.00      0.00          0.0          0.01\n",
      "16584  16587                                   Bust-A-Move 3000       GC  2003.0        Puzzle                       Ubisoft      0.01      0.00      0.00          0.0          0.01\n",
      "16585  16588                                             Breach       PC  2011.0       Shooter                     Destineer      0.01      0.00      0.00          0.0          0.01\n",
      "16586  16589                     Secret Files 2: Puritas Cordis       DS  2009.0     Adventure                   Deep Silver      0.00      0.01      0.00          0.0          0.01\n",
      "16587  16590                           Mezase!! Tsuri Master DS       DS  2009.0        Sports                   Hudson Soft      0.00      0.00      0.01          0.0          0.01\n",
      "16588  16591                                   Mega Brain Boost       DS  2008.0        Puzzle         Majesco Entertainment      0.01      0.00      0.00          0.0          0.01\n",
      "16589  16592  Chou Ezaru wa Akai Hana: Koi wa Tsuki ni Shiru...      PSV  2016.0        Action               dramatic create      0.00      0.00      0.01          0.0          0.01\n",
      "16590  16593  Eiyuu Densetsu: Sora no Kiseki Material Collec...      PSP  2007.0  Role-Playing            Falcom Corporation      0.00      0.00      0.01          0.0          0.01\n",
      "16591  16594                                Myst IV: Revelation       PC  2004.0     Adventure                       Ubisoft      0.01      0.00      0.00          0.0          0.01\n",
      "16592  16595                                           Plushees       DS  2008.0    Simulation                     Destineer      0.01      0.00      0.00          0.0          0.01\n",
      "16593  16596                 Woody Woodpecker in Crazy Castle 5      GBA  2002.0      Platform                         Kemco      0.01      0.00      0.00          0.0          0.01\n",
      "16594  16597                      Men in Black II: Alien Escape       GC  2003.0       Shooter                    Infogrames      0.01      0.00      0.00          0.0          0.01\n",
      "16595  16598   SCORE International Baja 1000: The Official Game      PS2  2008.0        Racing                    Activision      0.00      0.00      0.00          0.0          0.01\n",
      "16596  16599                                         Know How 2       DS  2010.0        Puzzle                      7G//AMES      0.00      0.01      0.00          0.0          0.01\n",
      "16597  16600                                   Spirits & Spells      GBA  2003.0      Platform                       Wanadoo      0.01      0.00      0.00          0.0          0.01\n",
      "What would you like to do?\n",
      "1. Show the top x lines.\n",
      "2. Show the last x lines.\n",
      "3. Show the full table.\n",
      "4. Sort table - Ascending.\n",
      "5. Sort table - Descending.\n",
      "6. Output total sum of a column.\n",
      "7. Output list of entries within a column by count of entries.\n",
      "8. Output list of column entries by sum of another column\n",
      "9. Show the mean value of a column of integers\n",
      "10. Show the standard deviation of the values in a column.\n",
      "11. Show the covariance between the columns of integers.\n",
      "12. Show the correlation between the columns of integers.\n",
      "98. Export the table to a new CSV file.\n",
      "99. Exit the script.\n"
     ]
    },
    {
     "name": "stdout",
     "output_type": "stream",
     "text": [
      "Selection: 4\n",
      "Which column would you like to sort by (case sensitive)?\n",
      "Column: Platform\n",
      "Data Sorted.\n",
      "What would you like to do?\n",
      "1. Show the top x lines.\n",
      "2. Show the last x lines.\n",
      "3. Show the full table.\n",
      "4. Sort table - Ascending.\n",
      "5. Sort table - Descending.\n",
      "6. Output total sum of a column.\n",
      "7. Output list of entries within a column by count of entries.\n",
      "8. Output list of column entries by sum of another column\n",
      "9. Show the mean value of a column of integers\n",
      "10. Show the standard deviation of the values in a column.\n",
      "11. Show the covariance between the columns of integers.\n",
      "12. Show the correlation between the columns of integers.\n",
      "98. Export the table to a new CSV file.\n",
      "99. Exit the script.\n",
      "Selection: 1\n",
      "How many lines would you like to show?:10\n",
      "      Rank                                   Name Platform    Year     Genre           Publisher  NA_Sales  EU_Sales  JP_Sales  Other_Sales  Global_Sales\n",
      "1766  1768                                Kaboom!     2600  1980.0      Misc          Activision      1.07      0.07       0.0         0.01          1.15\n",
      "3940  3942                          River Raid II     2600  1988.0   Shooter          Activision      0.47      0.03       0.0         0.01          0.51\n",
      "2406  2408                                 Enduro     2600  1982.0      Misc              Quelle      0.81      0.05       0.0         0.01          0.87\n",
      "239    240                               Pitfall!     2600  1981.0  Platform          Activision      4.21      0.24       0.0         0.05          4.50\n",
      "4378  4380  Maze Craze: A Game of Cops 'n Robbers     2600     NaN    Action               Atari      0.42      0.02       0.0         0.00          0.45\n",
      "3953  3955                         Midnight Magic     2600  1983.0    Action               Atari      0.47      0.03       0.0         0.01          0.50\n",
      "1106  1108                            Ms. Pac-Man     2600  1981.0    Puzzle               Atari      1.54      0.10       0.0         0.02          1.65\n",
      "3266  3268                              Halloween     2600  1982.0    Action  Wizard Video Games      0.58      0.03       0.0         0.01          0.62\n",
      "5400  5402                               Carnival     2600  1981.0   Shooter              Coleco      0.32      0.02       0.0         0.00          0.34\n",
      "3966  3968                        Chopper Command     2600  1982.0   Shooter          Activision      0.47      0.03       0.0         0.01          0.50\n",
      "What would you like to do?\n",
      "1. Show the top x lines.\n",
      "2. Show the last x lines.\n",
      "3. Show the full table.\n",
      "4. Sort table - Ascending.\n",
      "5. Sort table - Descending.\n",
      "6. Output total sum of a column.\n",
      "7. Output list of entries within a column by count of entries.\n",
      "8. Output list of column entries by sum of another column\n",
      "9. Show the mean value of a column of integers\n",
      "10. Show the standard deviation of the values in a column.\n",
      "11. Show the covariance between the columns of integers.\n",
      "12. Show the correlation between the columns of integers.\n",
      "98. Export the table to a new CSV file.\n",
      "99. Exit the script.\n",
      "Selection: 12\n",
      "                  Rank      Year  NA_Sales  EU_Sales  JP_Sales  Other_Sales  Global_Sales\n",
      "Rank          1.000000  0.178814 -0.401362 -0.379123 -0.267785    -0.332986     -0.427407\n",
      "Year          0.178814  1.000000 -0.091402  0.006014 -0.169316     0.041058     -0.074735\n",
      "NA_Sales     -0.401362 -0.091402  1.000000  0.767727  0.449787     0.634737      0.941047\n",
      "EU_Sales     -0.379123  0.006014  0.767727  1.000000  0.435584     0.726385      0.902836\n",
      "JP_Sales     -0.267785 -0.169316  0.449787  0.435584  1.000000     0.290186      0.611816\n",
      "Other_Sales  -0.332986  0.041058  0.634737  0.726385  0.290186     1.000000      0.748331\n",
      "Global_Sales -0.427407 -0.074735  0.941047  0.902836  0.611816     0.748331      1.000000\n",
      "What would you like to do?\n",
      "1. Show the top x lines.\n",
      "2. Show the last x lines.\n",
      "3. Show the full table.\n",
      "4. Sort table - Ascending.\n",
      "5. Sort table - Descending.\n",
      "6. Output total sum of a column.\n",
      "7. Output list of entries within a column by count of entries.\n",
      "8. Output list of column entries by sum of another column\n",
      "9. Show the mean value of a column of integers\n",
      "10. Show the standard deviation of the values in a column.\n",
      "11. Show the covariance between the columns of integers.\n",
      "12. Show the correlation between the columns of integers.\n",
      "98. Export the table to a new CSV file.\n",
      "99. Exit the script.\n"
     ]
    }
   ],
   "source": [
    "scriptrunning = True\n",
    "while scriptrunning:\n",
    "    UserChoice = int(input(\"Selection: \"))\n",
    "    if UserChoice == 1:\n",
    "        ShowFirstLines()\n",
    "        options()\n",
    "    elif UserChoice == 2:\n",
    "        ShowLastLines()\n",
    "        options()\n",
    "    elif UserChoice == 3:\n",
    "        ShowWholeDataFrame()\n",
    "        options()\n",
    "    elif UserChoice == 4:\n",
    "        SortByAscending()\n",
    "        options()\n",
    "    elif UserChoice == 5:\n",
    "        SortByDescending()\n",
    "        options()\n",
    "    elif UserChoice == 6:\n",
    "        SumColumn()\n",
    "        options()\n",
    "    elif UserChoice == 7:\n",
    "        GroupRows()\n",
    "        options()\n",
    "    elif UserChoice == 8:\n",
    "        SumGroupedRows()\n",
    "        options()\n",
    "    elif UserChoice == 9:\n",
    "        ColumnMean()\n",
    "        options()\n",
    "    elif UserChoice == 10:\n",
    "        ColumnStandardDeviation()\n",
    "        options()\n",
    "    elif UserChoice == 11:\n",
    "        Covariance()\n",
    "        options()\n",
    "    elif UserChoice == 12:\n",
    "        Correlation()\n",
    "        options()\n",
    "    elif UserChoice == 98:\n",
    "        Export()\n",
    "        options()\n",
    "#6. Exit\n",
    "    elif UserChoice == 99:\n",
    "        print(\"Script closed.\")\n",
    "        scriptrunning = False\n",
    "    else: \n",
    "        print(\"Invalid selection.\")"
   ]
  },
  {
   "cell_type": "code",
   "execution_count": null,
   "metadata": {},
   "outputs": [],
   "source": []
  }
 ],
 "metadata": {
  "kernelspec": {
   "display_name": "Python 3",
   "language": "python",
   "name": "python3"
  },
  "language_info": {
   "codemirror_mode": {
    "name": "ipython",
    "version": 3
   },
   "file_extension": ".py",
   "mimetype": "text/x-python",
   "name": "python",
   "nbconvert_exporter": "python",
   "pygments_lexer": "ipython3",
   "version": "3.7.0"
  }
 },
 "nbformat": 4,
 "nbformat_minor": 2
}
